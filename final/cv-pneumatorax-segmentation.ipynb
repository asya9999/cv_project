{
 "cells": [
  {
   "cell_type": "code",
   "execution_count": null,
   "metadata": {
    "_cell_guid": "b1076dfc-b9ad-4769-8c92-a6c4dae69d19",
    "_uuid": "8f2839f25d086af736a60e9eeb907d3b93b6e0e5"
   },
   "outputs": [],
   "source": [
    "# This Python 3 environment comes with many helpful analytics libraries installed\n",
    "# It is defined by the kaggle/python Docker image: https://github.com/kaggle/docker-python\n",
    "# For example, here's several helpful packages to load\n",
    "\n",
    "import numpy as np # linear algebra\n",
    "import pandas as pd # data processing, CSV file I/O (e.g. pd.read_csv)\n",
    "import matplotlib.pyplot as plt\n",
    "%matplotlib inline \n",
    "import seaborn as sns\n",
    "\n",
    "\n",
    "# Input data files are available in the read-only \"../input/\" directory\n",
    "# For example, running this (by clicking run or pressing Shift+Enter) will list all files under the input directory\n",
    "\n",
    "import os\n",
    "for dirname, _, filenames in os.walk('/kaggle/input'):\n",
    "    for filename in filenames:\n",
    "        print(os.path.join(dirname, filename))\n",
    "\n",
    "# You can write up to 5GB to the current directory (/kaggle/working/) that gets preserved as output when you create a version using \"Save & Run All\" \n",
    "# You can also write temporary files to /kaggle/temp/, but they won't be saved outside of the current session\n",
    "\n",
    "from IPython.display import clear_output\n",
    "clear_output()"
   ]
  },
  {
   "cell_type": "code",
   "execution_count": null,
   "metadata": {
    "_cell_guid": "79c7e3d0-c299-4dcb-8224-4455121ee9b0",
    "_uuid": "d629ff2d2480ee46fbb7e2d37f6b5fab8052498a"
   },
   "outputs": [],
   "source": [
    "IMG_SIZE = 128\n",
    "N_CHANNELS = 3\n",
    "\n",
    "img_path = '../input/pneumothorax-chest-xray-images-and-masks/siim-acr-pneumothorax/png_images'\n",
    "mask_path = '../input/pneumothorax-chest-xray-images-and-masks/siim-acr-pneumothorax/png_masks'"
   ]
  },
  {
   "cell_type": "code",
   "execution_count": null,
   "metadata": {},
   "outputs": [],
   "source": [
    "train_df = pd.read_csv('../input/pneumothorax-chest-xray-images-and-masks/siim-acr-pneumothorax/stage_1_train_images.csv')\n",
    "test_df = pd.read_csv('../input/pneumothorax-chest-xray-images-and-masks/siim-acr-pneumothorax/stage_1_test_images.csv')"
   ]
  },
  {
   "cell_type": "code",
   "execution_count": null,
   "metadata": {},
   "outputs": [],
   "source": [
    "train_df.head(15)"
   ]
  },
  {
   "cell_type": "code",
   "execution_count": null,
   "metadata": {},
   "outputs": [],
   "source": [
    "sns.set_palette(\"Greys\")\n",
    "\n",
    "train_df_with_pneumo = train_df[train_df['has_pneumo'] == 1]\n",
    "train_df_without_pneumo = train_df[train_df['has_pneumo'] == 0]\n",
    "\n",
    "plt.title(\"TRAIN. Number of images with and without pneumothorax\")\n",
    "sns.barplot(x=[\"has_pneumo\", \"has_no_pneumo\"], y = [len(train_df_with_pneumo), len(train_df_without_pneumo)])\n",
    "plt.ylabel(\"# of images\")"
   ]
  },
  {
   "cell_type": "code",
   "execution_count": null,
   "metadata": {},
   "outputs": [],
   "source": [
    "train_df_with_pneumo = train_df[train_df['has_pneumo'] == 1]\n",
    "#train_df_without_pneumo = train_df[train_df['has_pneumo'] == 0][:len(train_df_with_pneumo)]\n",
    "train_df_without_pneumo = train_df[train_df['has_pneumo'] == 0][:300]\n",
    "\n",
    "plt.title(\"TRAIN. Number of images with and without pneumothorax\")\n",
    "sns.barplot(x=[\"has_pneumo\", \"has_no_pneumo\"], y = [len(train_df_with_pneumo), len(train_df_without_pneumo)])\n",
    "plt.ylabel(\"# of images\")"
   ]
  },
  {
   "cell_type": "code",
   "execution_count": null,
   "metadata": {},
   "outputs": [],
   "source": [
    "test_df_with_pneumo = test_df[test_df['has_pneumo'] == 1]\n",
    "test_df_without_pneumo = test_df[test_df['has_pneumo'] == 0]\n",
    "\n",
    "\n",
    "plt.title(\"TEST. Number of images with and without pneumothorax\")\n",
    "sns.barplot(x=[\"has_pneumo\", \"has_no_pneumo\"], y = [len(test_df_with_pneumo), len(test_df_without_pneumo)])\n",
    "plt.ylabel(\"# of images\")"
   ]
  },
  {
   "cell_type": "code",
   "execution_count": null,
   "metadata": {},
   "outputs": [],
   "source": [
    "test_df_with_pneumo = test_df[test_df['has_pneumo'] == 1]\n",
    "#test_df_without_pneumo = test_df[test_df['has_pneumo'] == 0][:len(test_df_with_pneumo)]\n",
    "\n",
    "test_df_without_pneumo = test_df[test_df['has_pneumo'] == 0][:30]\n",
    "\n",
    "plt.title(\"TEST. Number of images with and without pneumothorax\")\n",
    "sns.barplot(x=[\"has_pneumo\", \"has_no_pneumo\"], y = [len(test_df_with_pneumo), len(test_df_without_pneumo)])\n",
    "plt.ylabel(\"# of images\")"
   ]
  },
  {
   "cell_type": "code",
   "execution_count": null,
   "metadata": {},
   "outputs": [],
   "source": [
    "from tqdm import tqdm \n",
    "from skimage.io import imread, imshow, imread_collection, concatenate_images\n",
    "from skimage.transform import resize\n",
    "import cv2\n",
    "N_CHANNELS = 3\n",
    "\n",
    "# Create X_train, Y_train, and Label \n",
    "train_size = len(train_df_with_pneumo + train_df_without_pneumo)\n",
    "\n",
    "X_train = np.zeros((train_size, IMG_SIZE, IMG_SIZE, N_CHANNELS))\n",
    "Y_train = np.zeros((train_size, IMG_SIZE, IMG_SIZE, 1), dtype=np.bool)\n",
    "labels = np.zeros(train_size, dtype=np.uint8)\n",
    "\n",
    "img_data = list( pd.concat([train_df_with_pneumo, train_df_without_pneumo]).T.to_dict().values())\n",
    "\n",
    "\n",
    "for i, data_row in tqdm(enumerate(img_data), total=len(img_data)):\n",
    "    \n",
    "    patientImage = data_row['new_filename']\n",
    "    imageLabel  = data_row['has_pneumo']\n",
    "\n",
    "    lungImage = imread(os.path.join(img_path, patientImage))\n",
    "    lungImage = np.expand_dims(resize(lungImage, (IMG_SIZE, IMG_SIZE), mode='constant', preserve_range=True), axis=-1)\n",
    "    #normalizedImg = lungImage/255\n",
    "    norm_img = np.zeros((IMG_SIZE,IMG_SIZE))\n",
    "    norm_img = cv2.normalize(lungImage,  norm_img, 0, 255, cv2.NORM_MINMAX)\n",
    "    img2 = cv2.merge((norm_img,norm_img,norm_img))\n",
    "    \n",
    "    X_train[i] = img2/255\n",
    "\n",
    "    labels[i] = imageLabel\n",
    "\n",
    "    maskImage = imread(os.path.join(mask_path, patientImage))\n",
    "    maskImage = np.expand_dims(resize(maskImage, (IMG_SIZE, IMG_SIZE), mode='constant', preserve_range=True), axis=-1)\n",
    "    maskImage = maskImage/255\n",
    "    Y_train[i] = maskImage\n"
   ]
  },
  {
   "cell_type": "code",
   "execution_count": null,
   "metadata": {},
   "outputs": [],
   "source": [
    "#X_train[:, :, :]/=255\n",
    "\n",
    "print(max(X_train[1].flatten()))"
   ]
  },
  {
   "cell_type": "code",
   "execution_count": null,
   "metadata": {},
   "outputs": [],
   "source": [
    "print(X_train.shape)"
   ]
  },
  {
   "cell_type": "code",
   "execution_count": null,
   "metadata": {},
   "outputs": [],
   "source": [
    "# Illustrate the train images and masks\n",
    "plt.figure(figsize=(20, 16))\n",
    "x, y = 12, 4\n",
    "\n",
    "for i in range(y):\n",
    "    for j in range(x):\n",
    "        plt.subplot(y*2, x, i*2*x+j+1)\n",
    "        pos = i*120 + j*10\n",
    "        plt.imshow(X_train[pos])\n",
    "        plt.title('Image')\n",
    "        plt.axis('off')\n",
    "        plt.subplot(y*2, x, (i*2+1)*x+j+1)\n",
    "\n",
    "        plt.imshow(np.squeeze(Y_train[pos]), cmap='gray_r')\n",
    "        plt.title('Mask\\nLabel: {}'.format(labels[pos]))\n",
    "        plt.axis('off')\n",
    "\n",
    "plt.tight_layout()\n",
    "plt.show()"
   ]
  },
  {
   "cell_type": "code",
   "execution_count": null,
   "metadata": {},
   "outputs": [],
   "source": [
    "import keras.backend as K\n",
    "from keras.engine import Layer\n",
    "\n",
    "from keras.models import Sequential,Model\n",
    "from keras.layers import Input, Dropout, merge\n",
    "from keras.layers.convolutional import Convolution2D, UpSampling2D, ZeroPadding2D, Cropping2D, Deconvolution2D\n",
    "from keras.layers.core import Activation\n",
    "from keras.optimizers import Adam, SGD\n",
    "\n",
    "from keras.applications.resnet50 import ResNet50\n",
    "from keras.models import Model, load_model\n",
    "from keras.metrics import binary_accuracy\n",
    "\n",
    "import numpy as np\n",
    "import tensorflow as tf\n"
   ]
  },
  {
   "cell_type": "code",
   "execution_count": null,
   "metadata": {},
   "outputs": [],
   "source": [
    "value_dict = {1: False,\n",
    "              0: True,\n",
    "              }\n",
    "\n",
    "def rgb_to_onehot(rgb_arr, value_dict):\n",
    "    \n",
    "    print(rgb_arr.shape)\n",
    "    \n",
    "    num_classes = len(value_dict)\n",
    "    shape = rgb_arr.shape[:3]+(num_classes,)\n",
    "    \n",
    "    #print(shape)\n",
    "    arr = np.zeros( shape, dtype=np.int8 )\n",
    "    \n",
    "\n",
    "    for i, cls in enumerate(value_dict):\n",
    "        #print(np.all(rgb_arr.reshape( (-1,1) ) == value_dict[i], axis=1).reshape(shape[:3]))\n",
    "        arr[:,:,:,i] = np.all(rgb_arr.reshape( (-1,1) ) == value_dict[i], axis=1).reshape(shape[:3])\n",
    "    return arr\n",
    "\n",
    "new_Y = rgb_to_onehot(Y_train, value_dict)\n",
    "new_Y = 1*np.array(new_Y, dtype=\"bool\")\n",
    "\n",
    "\n",
    "def onehot_to_rgb(onehot):\n",
    "    \n",
    "    single_layer = np.argmax(onehot, axis=-1)\n",
    "    output = np.zeros( onehot.shape[:2]+(1,) )\n",
    "    \n",
    "    for i in range(output.shape[0]):\n",
    "        for k in range(output.shape[1]):\n",
    "            #if onehot[i, k , 0] >onehot[i, k , 1]:\n",
    "            if onehot[i, k , 0] >onehot[i, k , 1]:\n",
    "                output[i, k] = 0\n",
    "            else:\n",
    "                output[i, k] = 1\n",
    "    \n",
    "    \n",
    "\n",
    "    return np.uint8(output)\n"
   ]
  },
  {
   "cell_type": "code",
   "execution_count": null,
   "metadata": {},
   "outputs": [],
   "source": [
    "#Model parameters\n",
    "stride = 32\n",
    "learning_rate = 0.1\n",
    "N_CLASSES = 2\n",
    "batch_size = 5\n",
    "N_epochs = 100\n",
    "\n",
    "# Init the VGG model\n",
    "vgg_conv = tf.keras.applications.VGG19(weights='imagenet', include_top=False, input_shape=(IMG_SIZE, IMG_SIZE, 3))\n",
    "for layer in vgg_conv.layers[:]:\n",
    "    layer.trainable = False\n",
    "\n",
    "# ENCODER\n",
    "# Create the model based /on VGG16\n",
    "model_with_vgg = Sequential()\n",
    "model_with_vgg.add(vgg_conv)\n",
    "\n",
    "#DECODER\n",
    "# Upsampling\n",
    "model_with_vgg.add(Deconvolution2D(N_CLASSES, (16, 16), strides=4, padding='same') )\n",
    "model_with_vgg.add(Dropout(0.2))\n",
    "model_with_vgg.add(Deconvolution2D(N_CLASSES, (32, 32), strides=4, padding='same') )\n",
    "model_with_vgg.add(Dropout(0.2))\n",
    "model_with_vgg.add(Deconvolution2D(N_CLASSES, (64, 64), strides=2, padding='same') )\n",
    "\n",
    "model_with_vgg.add(Activation('softmax'))\n",
    "model_with_vgg.summary()        \n",
    "\n",
    "\n",
    "opt = tf.keras.layers.LeakyReLU()\n",
    "m = tf.keras.metrics.MeanIoU(num_classes=2)\n",
    "\n",
    "def dice(y_true, y_pred):\n",
    "    # Symbolically compute the intersection\n",
    "    y_int = y_true*y_pred\n",
    "    # Technically this is the negative of the Sorensen-Dice index. This is done for\n",
    "    # minimization purposes\n",
    "    return -(2*K.sum(y_int) / (K.sum(y_true) + K.sum(y_pred)))\n",
    "\n",
    "model_with_vgg.compile(loss=\"binary_crossentropy\",\n",
    "              optimizer=\"Adam\",\n",
    "              metrics=['accuracy', m, dice])\n"
   ]
  },
  {
   "cell_type": "code",
   "execution_count": null,
   "metadata": {},
   "outputs": [],
   "source": [
    "model_with_vgg.fit(\n",
    "    X_train, new_Y,\n",
    "    validation_split=0.1,\n",
    "    batch_size = batch_size,\n",
    "    epochs = 1000\n",
    ")"
   ]
  },
  {
   "cell_type": "code",
   "execution_count": null,
   "metadata": {},
   "outputs": [],
   "source": [
    "import os \n",
    "os.mkdir('../output1')"
   ]
  },
  {
   "cell_type": "code",
   "execution_count": null,
   "metadata": {},
   "outputs": [],
   "source": [
    "model_with_vgg.save('./vgg_100')"
   ]
  },
  {
   "cell_type": "code",
   "execution_count": null,
   "metadata": {},
   "outputs": [],
   "source": [
    "from tqdm import tqdm \n",
    "from skimage.io import imread, imshow, imread_collection, concatenate_images\n",
    "from skimage.transform import resize\n",
    "import cv2\n",
    "N_CHANNELS = 3\n",
    "\n",
    "# Create X_train, Y_train, and Label \n",
    "train_size = len(test_df_with_pneumo)\n",
    "\n",
    "X_test = np.zeros((train_size, IMG_SIZE, IMG_SIZE, N_CHANNELS))\n",
    "Y_test = np.zeros((train_size, IMG_SIZE, IMG_SIZE, 1), dtype=np.bool)\n",
    "labels_test = np.zeros(train_size, dtype=np.uint8)\n",
    "\n",
    "img_data = list( test_df_with_pneumo.T.to_dict().values())\n",
    "\n",
    "\n",
    "for i, data_row in tqdm(enumerate(img_data), total=len(img_data)):\n",
    "    \n",
    "    patientImage = data_row['new_filename']\n",
    "    imageLabel  = data_row['has_pneumo']\n",
    "\n",
    "    lungImage = imread(os.path.join(img_path, patientImage))\n",
    "    lungImage = np.expand_dims(resize(lungImage, (IMG_SIZE, IMG_SIZE), mode='constant', preserve_range=True), axis=-1)\n",
    "    #normalizedImg = lungImage/255\n",
    "    norm_img = np.zeros((IMG_SIZE,IMG_SIZE))\n",
    "    norm_img = cv2.normalize(lungImage,  norm_img, 0, 255, cv2.NORM_MINMAX)\n",
    "    img2 = cv2.merge((norm_img,norm_img,norm_img))\n",
    "    \n",
    "    X_test[i] = img2/255\n",
    "\n",
    "    labels_test[i] = imageLabel\n",
    "\n",
    "    maskImage = imread(os.path.join(mask_path, patientImage))\n",
    "    maskImage = np.expand_dims(resize(maskImage, (IMG_SIZE, IMG_SIZE), mode='constant', preserve_range=True), axis=-1)\n",
    "    maskImage = maskImage/255\n",
    "    Y_test[i] = maskImage"
   ]
  },
  {
   "cell_type": "code",
   "execution_count": null,
   "metadata": {},
   "outputs": [],
   "source": [
    "res = (model_with_vgg.predict(X_test))\n",
    "print(res.shape)"
   ]
  },
  {
   "cell_type": "code",
   "execution_count": null,
   "metadata": {},
   "outputs": [],
   "source": [
    "new_Y_test = rgb_to_onehot(Y_test, value_dict)\n",
    "new_Y_test = 1*np.array(new_Y_test, dtype=\"bool\")\n",
    "print(new_Y_test.shape)"
   ]
  },
  {
   "cell_type": "code",
   "execution_count": null,
   "metadata": {},
   "outputs": [],
   "source": []
  },
  {
   "cell_type": "code",
   "execution_count": null,
   "metadata": {},
   "outputs": [],
   "source": [
    "res = onehot_to_rgb(model_with_vgg.predict(X_train[0:6])[0] )\n",
    "plt.imshow(res.reshape( (128,128) ))"
   ]
  },
  {
   "cell_type": "code",
   "execution_count": null,
   "metadata": {},
   "outputs": [],
   "source": [
    "res = (255 - Y_train[0] )\n",
    "plt.imshow(res.reshape( (128,128) ))"
   ]
  },
  {
   "cell_type": "code",
   "execution_count": null,
   "metadata": {},
   "outputs": [],
   "source": [
    "res = (X_train[0] )\n",
    "plt.imshow(res)"
   ]
  },
  {
   "cell_type": "code",
   "execution_count": null,
   "metadata": {},
   "outputs": [],
   "source": [
    "#Model parameters\n",
    "stride = 32\n",
    "learning_rate = 0.1\n",
    "N_CLASSES = 2\n",
    "batch_size = 5\n",
    "N_epochs = 100\n",
    "\n",
    "# Init the VGG model\n",
    "resnet_conv = tf.keras.applications.ResNet50(weights='imagenet', include_top=False, input_shape=(IMG_SIZE, IMG_SIZE, 3))\n",
    "for layer in resnet_conv.layers[:]:\n",
    "    layer.trainable = False\n",
    "\n",
    "# ENCODER\n",
    "# Create the model based /on VGG16\n",
    "model_with_resnet = Sequential()\n",
    "model_with_resnet.add(resnet_conv)\n",
    "\n",
    "#model_with_resnet.add(Convolution2D(32,kernel_size=(1,1),padding = \"same\",activation = \"relu\",name = \"fc6\"))\n",
    "#model_with_resnet.add(tf.keras.layers.MaxPooling2D(pool_size=(2, 2), strides=(1, 1), padding='valid'))\n",
    "\n",
    "# add classifier - to get size down to at most 8x8\n",
    "model_with_resnet.add(Deconvolution2D(N_CLASSES, (4, 4), strides=2, padding='same') )\n",
    "model_with_resnet.add(Dropout(0.2))\n",
    "model_with_resnet.add(Deconvolution2D(N_CLASSES, (16, 16), strides=2, padding='same') )\n",
    "model_with_resnet.add(Dropout(0.2))\n",
    "model_with_resnet.add(Deconvolution2D(N_CLASSES, (32, 32), strides=2, padding='same') )\n",
    "model_with_resnet.add(Dropout(0.2))\n",
    "model_with_resnet.add(Deconvolution2D(N_CLASSES, (32, 32), strides=2, padding='same') )\n",
    "model_with_resnet.add(Dropout(0.2))\n",
    "model_with_resnet.add(Deconvolution2D(N_CLASSES, (64, 64), strides=2, padding='same') )\n",
    "\n",
    "model_with_resnet.add(Activation('softmax'))\n",
    "model_with_resnet.summary()        \n",
    "\n",
    "m = tf.keras.metrics.MeanIoU(num_classes=2)\n",
    "\n",
    "model_with_resnet.compile(loss=\"binary_crossentropy\",\n",
    "              optimizer=\"adam\",\n",
    "              metrics=['accuracy'])"
   ]
  },
  {
   "cell_type": "code",
   "execution_count": null,
   "metadata": {},
   "outputs": [],
   "source": [
    "model_with_resnet.fit(\n",
    "    X_train, new_Y,\n",
    "    validation_split=0.1,\n",
    "    batch_size = batch_size,\n",
    "    epochs = N_epochs\n",
    ")"
   ]
  },
  {
   "cell_type": "code",
   "execution_count": null,
   "metadata": {},
   "outputs": [],
   "source": [
    "from tqdm import tqdm \n",
    "from skimage.io import imread, imshow, imread_collection, concatenate_images\n",
    "from skimage.transform import resize\n",
    "import cv2\n",
    "N_CHANNELS = 3\n",
    "\n",
    "# Create X_train, Y_train, and Label \n",
    "train_size = len(test_df_with_pneumo)\n",
    "\n",
    "X_test = np.zeros((train_size, IMG_SIZE, IMG_SIZE, N_CHANNELS))\n",
    "Y_test = np.zeros((train_size, IMG_SIZE, IMG_SIZE, 1), dtype=np.bool)\n",
    "labels_test = np.zeros(train_size, dtype=np.uint8)\n",
    "\n",
    "img_data = list( test_df_with_pneumo.T.to_dict().values())\n",
    "\n",
    "\n",
    "for i, data_row in tqdm(enumerate(img_data), total=len(img_data)):\n",
    "    \n",
    "    patientImage = data_row['new_filename']\n",
    "    imageLabel  = data_row['has_pneumo']\n",
    "\n",
    "    lungImage = imread(os.path.join(img_path, patientImage))\n",
    "    lungImage = np.expand_dims(resize(lungImage, (IMG_SIZE, IMG_SIZE), mode='constant', preserve_range=True), axis=-1)\n",
    "    #normalizedImg = lungImage/255\n",
    "    norm_img = np.zeros((IMG_SIZE,IMG_SIZE))\n",
    "    norm_img = cv2.normalize(lungImage,  norm_img, 0, 255, cv2.NORM_MINMAX)\n",
    "    img2 = cv2.merge((norm_img,norm_img,norm_img))\n",
    "    \n",
    "    X_test[i] = img2/255\n",
    "\n",
    "    labels_test[i] = imageLabel\n",
    "\n",
    "    maskImage = imread(os.path.join(mask_path, patientImage))\n",
    "    maskImage = np.expand_dims(resize(maskImage, (IMG_SIZE, IMG_SIZE), mode='constant', preserve_range=True), axis=-1)\n",
    "    maskImage = maskImage/255\n",
    "    Y_test[i] = maskImage\n",
    "\n"
   ]
  },
  {
   "cell_type": "code",
   "execution_count": null,
   "metadata": {},
   "outputs": [],
   "source": [
    "new_image = np.zeros( (Y_test[1].shape[0], Y_test[1].shape[1]) )\n",
    "for i in range(Y_test[1].shape[0]):\n",
    "    for j in range(Y_test[1].shape[1]):\n",
    "        \n",
    "        new_image[i, j] = abs( Y_test[1, i, j] - 1) \n",
    "\n",
    "plt.imshow(new_image)"
   ]
  },
  {
   "cell_type": "code",
   "execution_count": null,
   "metadata": {},
   "outputs": [],
   "source": [
    "res = onehot_to_rgb(model_with_resnet.predict(X_test[0:6])[1] )\n",
    "plt.imshow(res.reshape( (128,128) ))"
   ]
  },
  {
   "cell_type": "code",
   "execution_count": null,
   "metadata": {},
   "outputs": [],
   "source": [
    "print(dir(tf.keras.applications))"
   ]
  },
  {
   "cell_type": "code",
   "execution_count": null,
   "metadata": {},
   "outputs": [],
   "source": [
    "import tensorflow as tf\n",
    "tf.__version__"
   ]
  },
  {
   "cell_type": "code",
   "execution_count": null,
   "metadata": {},
   "outputs": [],
   "source": [
    "from tensorflow.keras.applications import InceptionV3\n",
    "\n",
    "#Model parameters\n",
    "stride = 32\n",
    "learning_rate = 0.1\n",
    "N_CLASSES = 2\n",
    "batch_size = 2\n",
    "N_epochs = 30\n",
    "\n",
    "# Init the VGG model\n",
    "efnet_conv = InceptionV3(weights='imagenet', include_top=False, input_shape=(IMG_SIZE, IMG_SIZE, 3))\n",
    "for layer in efnet_conv.layers[:]:\n",
    "    layer.trainable = False\n",
    "\n",
    "# ENCODER\n",
    "# Create the model based /on VGG16\n",
    "model_with_efnet = Sequential()\n",
    "model_with_efnet.add(efnet_conv)\n",
    "\n",
    "\n",
    "# Upsampling\n",
    "\n",
    "model_with_efnet.add(Deconvolution2D(N_CLASSES, (16, 16), strides=(4, 4), padding='same') )\n",
    "model_with_efnet.add(Dropout(0.2))\n",
    "\n",
    "model_with_efnet.add(Deconvolution2D(N_CLASSES, (32, 32), strides=(4, 4), padding='same') )\n",
    "model_with_efnet.add(Dropout(0.2))\n",
    "\n",
    "model_with_efnet.add(Deconvolution2D(N_CLASSES, (32, 32), strides=(2, 2), padding='same') )\n",
    "model_with_efnet.add(Dropout(0.2))\n",
    "\n",
    "\n",
    "model_with_efnet.add(Deconvolution2D(N_CLASSES, (64, 64), strides=(2, 2), padding='same') )\n",
    "\n",
    "\n",
    "\n",
    "model_with_efnet.add(Activation('softmax'))\n",
    "model_with_efnet.summary()        \n",
    "\n",
    "m = tf.keras.metrics.MeanIoU(num_classes=2)\n",
    "\n",
    "model_with_efnet.compile(loss=\"categorical_crossentropy\",\n",
    "              optimizer=\"SGD\",\n",
    "              metrics=['accuracy'])"
   ]
  },
  {
   "cell_type": "code",
   "execution_count": null,
   "metadata": {},
   "outputs": [],
   "source": [
    "model_with_efnet.fit(\n",
    "    X_train, new_Y,\n",
    "    validation_split=0.1,\n",
    "    batch_size = batch_size,\n",
    "    epochs = N_epochs\n",
    ")"
   ]
  }
 ],
 "metadata": {
  "kernelspec": {
   "display_name": "Python 3",
   "language": "python",
   "name": "python3"
  },
  "language_info": {
   "codemirror_mode": {
    "name": "ipython",
    "version": 3
   },
   "file_extension": ".py",
   "mimetype": "text/x-python",
   "name": "python",
   "nbconvert_exporter": "python",
   "pygments_lexer": "ipython3",
   "version": "3.8.3"
  }
 },
 "nbformat": 4,
 "nbformat_minor": 4
}
